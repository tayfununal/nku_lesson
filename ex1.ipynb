{
  "nbformat": 4,
  "nbformat_minor": 0,
  "metadata": {
    "colab": {
      "name": "ex1.ipynb",
      "private_outputs": true,
      "provenance": [],
      "authorship_tag": "ABX9TyPaZfEiqBm6ta34U0VDll0r",
      "include_colab_link": true
    },
    "kernelspec": {
      "name": "python3",
      "display_name": "Python 3"
    },
    "accelerator": "GPU"
  },
  "cells": [
    {
      "cell_type": "markdown",
      "metadata": {
        "id": "view-in-github",
        "colab_type": "text"
      },
      "source": [
        "<a href=\"https://colab.research.google.com/github/tayfununal/nku_lesson/blob/main/ex1.ipynb\" target=\"_parent\"><img src=\"https://colab.research.google.com/assets/colab-badge.svg\" alt=\"Open In Colab\"/></a>"
      ]
    },
    {
      "cell_type": "code",
      "metadata": {
        "id": "myquPT5QIs6K"
      },
      "source": [
        "from tensorflow.keras.models import Sequential\r\n",
        "from tensorflow.keras.layers import Conv2D, Dense, Flatten, MaxPooling2D\r\n",
        "import tensorflow as tf\r\n"
      ],
      "execution_count": null,
      "outputs": []
    },
    {
      "cell_type": "code",
      "metadata": {
        "id": "EOgU_WRqJA9M"
      },
      "source": [
        "model = Sequential([\r\n",
        "                    Conv2D(16,(3,3), activation='relu', input_shape=(32,32,1)),\r\n",
        "                    MaxPooling2D((3,3)),\r\n",
        "                    Flatten(),\r\n",
        "                    Dense(64, activation='relu'),\r\n",
        "                    Dense(10, activation='softmax'),\r\n",
        "])"
      ],
      "execution_count": null,
      "outputs": []
    },
    {
      "cell_type": "code",
      "metadata": {
        "id": "Zwi_LMbpJSmT"
      },
      "source": [
        "model.summary()"
      ],
      "execution_count": null,
      "outputs": []
    },
    {
      "cell_type": "code",
      "metadata": {
        "id": "b4az0W_qJYPk"
      },
      "source": [
        "opt = tf.keras.optimizers.Adam(learning_rate=0.005)\r\n",
        "loss_func = tf.keras.losses.CategoricalCrossentropy()\r\n",
        "\r\n",
        "model.compile(optimizer = opt,\r\n",
        "              loss      = loss_func,\r\n",
        "              metrics   = ['accuracy', 'mae']\r\n",
        ")"
      ],
      "execution_count": null,
      "outputs": []
    },
    {
      "cell_type": "code",
      "metadata": {
        "id": "wcXd-OQZS6kL"
      },
      "source": [
        "print(model.optimizer)\r\n",
        "print(model.loss)\r\n",
        "print(model.metrics)"
      ],
      "execution_count": null,
      "outputs": []
    },
    {
      "cell_type": "code",
      "metadata": {
        "id": "L2N8ANj-TNGi"
      },
      "source": [
        ""
      ],
      "execution_count": null,
      "outputs": []
    }
  ]
}