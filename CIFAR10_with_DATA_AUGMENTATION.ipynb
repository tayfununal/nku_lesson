{
  "nbformat": 4,
  "nbformat_minor": 0,
  "metadata": {
    "colab": {
      "name": "CIFAR10_with_DATA_AUGMENTATION.ipynb",
      "private_outputs": true,
      "provenance": [],
      "collapsed_sections": [],
      "authorship_tag": "ABX9TyMoBwmaXYecX1UgPY+FhW5Y",
      "include_colab_link": true
    },
    "kernelspec": {
      "name": "python3",
      "display_name": "Python 3"
    },
    "accelerator": "GPU"
  },
  "cells": [
    {
      "cell_type": "markdown",
      "metadata": {
        "id": "view-in-github",
        "colab_type": "text"
      },
      "source": [
        "<a href=\"https://colab.research.google.com/github/tayfununal/nku_lesson/blob/main/CIFAR10_with_DATA_AUGMENTATION.ipynb\" target=\"_parent\"><img src=\"https://colab.research.google.com/assets/colab-badge.svg\" alt=\"Open In Colab\"/></a>"
      ]
    },
    {
      "cell_type": "code",
      "metadata": {
        "id": "AgP5Hcmt8DJy"
      },
      "source": [
        "from tensorflow.keras.models import Model\r\n",
        "from tensorflow.keras.layers import Dense, Input, Flatten, Conv2D, MaxPool2D, Dropout, BatchNormalization\r\n",
        "from tensorflow.keras.datasets import cifar10\r\n",
        "from tensorflow.keras import utils\r\n",
        "import matplotlib.pyplot as plt\r\n",
        "import tensorflow as tf"
      ],
      "execution_count": null,
      "outputs": []
    },
    {
      "cell_type": "code",
      "metadata": {
        "id": "_n1gdhLy8FWv"
      },
      "source": [
        "# Data\r\n",
        "(X_train, y_train), (X_test, y_test) = cifar10.load_data()"
      ],
      "execution_count": null,
      "outputs": []
    },
    {
      "cell_type": "code",
      "metadata": {
        "id": "6LNpCLMm8HJq"
      },
      "source": [
        "# Data Shapes\r\n",
        "print(\"Shape of X_train : \", X_train.shape)\r\n",
        "print(\"Shape of y_train: \", y_train.shape)\r\n",
        "print(\"Shape of X_test : \", X_test.shape)\r\n",
        "print(\"Shape of y_test : \", y_test.shape)"
      ],
      "execution_count": null,
      "outputs": []
    },
    {
      "cell_type": "code",
      "metadata": {
        "id": "rmVDbwv48I_M"
      },
      "source": [
        "# Normalization\r\n",
        "X_train, X_test = X_train.astype('float32') / 255., X_test.astype('float32') / 255.\r\n",
        "\r\n",
        "# One - Hot Encoding\r\n",
        "y_train = utils.to_categorical(y_train, 10)\r\n",
        "y_test = utils.to_categorical(y_test, 10)"
      ],
      "execution_count": null,
      "outputs": []
    },
    {
      "cell_type": "code",
      "metadata": {
        "id": "bn6ZbXdR8Kyg"
      },
      "source": [
        "input = Input(shape=(32,32,3))\r\n",
        "\r\n",
        "layera = tf.keras.layers.experimental.preprocessing.RandomFlip(\"horizontal_and_vertical\")(input)\r\n",
        "layerb = tf.keras.layers.experimental.preprocessing.RandomRotation(0.2)(layera)\r\n",
        "\r\n",
        "layer1 = Conv2D(128,(3,3), padding='same', activation='swish')(layerb)\r\n",
        "layer2 = MaxPool2D(pool_size=(3,3))(layer1)\r\n",
        "layer3 = Dropout(0.1)(layer2)\r\n",
        "\r\n",
        "layer4 = Conv2D(256,(3,3), padding='same', activation='swish')(layer3)\r\n",
        "layer5 = MaxPool2D(pool_size=(2,2))(layer4)\r\n",
        "layer20 = BatchNormalization()(layer5)\r\n",
        "\r\n",
        "layer6 = Conv2D(512,(3,3), padding='same', activation='swish')(layer20)\r\n",
        "layer7 = MaxPool2D(pool_size=(2,2))(layer6)\r\n",
        "layer8 = Dropout(0.1)(layer7)\r\n",
        "\r\n",
        "layer9 = Conv2D(1054,(3,3), padding='same', activation='swish')(layer8)\r\n",
        "layer10 = MaxPool2D(pool_size=(2,2))(layer9)\r\n",
        "layer21 = BatchNormalization()(layer10)\r\n",
        "\r\n",
        "layer11 = Flatten()(layer21)\r\n",
        "layer12 = Dense(64, activation='relu')(layer11)\r\n",
        "layer13 = Dense(64, activation='relu')(layer12)\r\n",
        "layer14 = Dense(64, activation='relu')(layer13)\r\n",
        "layer15 = Dense(64, activation='relu')(layer14)\r\n",
        "layer16 = Dense(10, activation='softmax')(layer15)\r\n",
        " \r\n",
        "model = Model(input, layer16)"
      ],
      "execution_count": null,
      "outputs": []
    },
    {
      "cell_type": "code",
      "metadata": {
        "id": "0F4L7jj1-aub"
      },
      "source": [
        "model.summary()"
      ],
      "execution_count": null,
      "outputs": []
    },
    {
      "cell_type": "code",
      "metadata": {
        "id": "YxvOMAAY_EZH"
      },
      "source": [
        "model.compile(loss='categorical_crossentropy',\r\n",
        "              optimizer='rmsprop',\r\n",
        "              metrics=['accuracy'])"
      ],
      "execution_count": null,
      "outputs": []
    },
    {
      "cell_type": "code",
      "metadata": {
        "id": "cXNiTmPu_NWy"
      },
      "source": [
        "# Model training and creating validation set\r\n",
        "history = model.fit(X_train, y_train,\r\n",
        "                    batch_size = 256,\r\n",
        "                    epochs=20,\r\n",
        "                    validation_data= (X_test, y_test),\r\n",
        "                    verbose=1)"
      ],
      "execution_count": null,
      "outputs": []
    },
    {
      "cell_type": "code",
      "metadata": {
        "id": "atmhu6EU_PIf"
      },
      "source": [
        ""
      ],
      "execution_count": null,
      "outputs": []
    }
  ]
}