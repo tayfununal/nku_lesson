{
  "nbformat": 4,
  "nbformat_minor": 0,
  "metadata": {
    "colab": {
      "name": "euler_method_implementation_mass-spring.ipynb",
      "private_outputs": true,
      "provenance": [],
      "collapsed_sections": [],
      "authorship_tag": "ABX9TyMAzPgo9zRA6l6EwbqxxH+k",
      "include_colab_link": true
    },
    "kernelspec": {
      "name": "python3",
      "display_name": "Python 3"
    },
    "language_info": {
      "name": "python"
    }
  },
  "cells": [
    {
      "cell_type": "markdown",
      "metadata": {
        "id": "view-in-github",
        "colab_type": "text"
      },
      "source": [
        "<a href=\"https://colab.research.google.com/github/tayfununal/nku_lesson/blob/main/euler_method_implementation_mass_spring.ipynb\" target=\"_parent\"><img src=\"https://colab.research.google.com/assets/colab-badge.svg\" alt=\"Open In Colab\"/></a>"
      ]
    },
    {
      "cell_type": "code",
      "metadata": {
        "id": "9wtbaJ9i-AYI"
      },
      "source": [
        "import numpy as np\n",
        "import matplotlib.pyplot as plt"
      ],
      "execution_count": null,
      "outputs": []
    },
    {
      "cell_type": "code",
      "metadata": {
        "id": "jm3_pQpQ-Pbg"
      },
      "source": [
        "def euler_method(q=0, p=1, t_son=3, h=0.1):\n",
        "  sonuc=[]\n",
        "  t_sonuc = []\n",
        "  t = 0\n",
        "  while t<t_son:\n",
        "    t_sonuc.append(t)\n",
        "    sonuc.append((q, p))\n",
        "\n",
        "    q1 = q + h * p\n",
        "    p1 = p + h * (-q)\n",
        "\n",
        "    q = q1\n",
        "    p = p1\n",
        "    \n",
        "    t1 = t + h\n",
        "    t = t1\n",
        "  return sonuc, t_sonuc"
      ],
      "execution_count": null,
      "outputs": []
    },
    {
      "cell_type": "code",
      "metadata": {
        "id": "TClFFikVArhA"
      },
      "source": [
        ""
      ],
      "execution_count": null,
      "outputs": []
    },
    {
      "cell_type": "code",
      "metadata": {
        "id": "nAXFdJ8QAvyH"
      },
      "source": [
        "t = 4\n",
        "h = 0.01\n",
        "approx, t_sonuc = euler_method(0, 1, t, h)\n",
        "\n",
        "\n",
        "plt.scatter([ approx[i][0] for i in range(0, len(approx))], [approx[i][1] for i in range(0, len(approx))], c = 'red')\n",
        "plt.scatter([np.sin(np.math.radians(i)) for i in t_sonuc], [np.cos(np.math.radians(i)) for i in t_sonuc], marker='o', c='blue')\n",
        "plt.show()"
      ],
      "execution_count": null,
      "outputs": []
    },
    {
      "cell_type": "code",
      "metadata": {
        "id": "sHBBMER-BfF4"
      },
      "source": [
        "len(approx)"
      ],
      "execution_count": null,
      "outputs": []
    },
    {
      "cell_type": "code",
      "metadata": {
        "id": "RrmRfD3wLMN0"
      },
      "source": [
        "len(t_sonuc)"
      ],
      "execution_count": null,
      "outputs": []
    },
    {
      "cell_type": "code",
      "metadata": {
        "id": "4qmAGyp8LQ7b"
      },
      "source": [
        "t_sonuc\n"
      ],
      "execution_count": null,
      "outputs": []
    },
    {
      "cell_type": "code",
      "metadata": {
        "id": "4LLlT1JgL7l8"
      },
      "source": [
        ""
      ],
      "execution_count": null,
      "outputs": []
    }
  ]
}