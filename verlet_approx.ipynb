{
  "nbformat": 4,
  "nbformat_minor": 0,
  "metadata": {
    "colab": {
      "name": "verlet_approx.ipynb",
      "private_outputs": true,
      "provenance": [],
      "authorship_tag": "ABX9TyNgU0SncauIMGuMptCH40Ih",
      "include_colab_link": true
    },
    "kernelspec": {
      "name": "python3",
      "display_name": "Python 3"
    },
    "language_info": {
      "name": "python"
    }
  },
  "cells": [
    {
      "cell_type": "markdown",
      "metadata": {
        "id": "view-in-github",
        "colab_type": "text"
      },
      "source": [
        "<a href=\"https://colab.research.google.com/github/tayfununal/nku_lesson/blob/main/verlet_approx.ipynb\" target=\"_parent\"><img src=\"https://colab.research.google.com/assets/colab-badge.svg\" alt=\"Open In Colab\"/></a>"
      ]
    },
    {
      "cell_type": "code",
      "metadata": {
        "id": "Z-TrQhwtvLoy"
      },
      "source": [
        "import numpy as np\n",
        "import matplotlib.pyplot as plt\n"
      ],
      "execution_count": null,
      "outputs": []
    },
    {
      "cell_type": "code",
      "metadata": {
        "id": "l7vFyEZBvUQ-"
      },
      "source": [
        "def verlet(q=0 , p=1, h=0.1, t=3):\n",
        "  sonuc = [(q, p)]\n",
        "  for i in range(0,t):\n",
        "    q_1 = q + h * p + (h**2 / 2) * - q\n",
        "    p = p + h * ((-q - q_1) / 2)\n",
        "    q = q_1\n",
        "    sonuc.append((q_1, p))\n",
        "  return sonuc"
      ],
      "execution_count": null,
      "outputs": []
    },
    {
      "cell_type": "code",
      "metadata": {
        "id": "vIT7DqGyxtNT"
      },
      "source": [
        "h = 0.0175\n",
        "t = 10\n",
        "approx =verlet(0,1,h,t)"
      ],
      "execution_count": null,
      "outputs": []
    },
    {
      "cell_type": "code",
      "metadata": {
        "id": "zumTwJ3fxy2g"
      },
      "source": [
        "plt.scatter([approx[i][0] for i in range(0,t)], [approx[i][1] for i in range(0,t)] ,marker='^', c = 'red')\n",
        "plt.scatter([np.sin(np.math.radians(i)) for i in range(0,t)],[np.cos(np.math.radians(i)) for i in range(0,t)], marker='o', c='blue')\n",
        "plt.show()"
      ],
      "execution_count": null,
      "outputs": []
    },
    {
      "cell_type": "code",
      "metadata": {
        "id": "P7pQHI-f46Nh"
      },
      "source": [
        ""
      ],
      "execution_count": null,
      "outputs": []
    }
  ]
}