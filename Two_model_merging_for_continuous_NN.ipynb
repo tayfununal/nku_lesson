{
  "nbformat": 4,
  "nbformat_minor": 0,
  "metadata": {
    "colab": {
      "name": "Two_model_merging_for_continuous_NN.ipynb",
      "private_outputs": true,
      "provenance": [],
      "authorship_tag": "ABX9TyP15GtCMnFyubeBJC0WqDPy",
      "include_colab_link": true
    },
    "kernelspec": {
      "name": "python3",
      "display_name": "Python 3"
    },
    "language_info": {
      "name": "python"
    },
    "accelerator": "GPU"
  },
  "cells": [
    {
      "cell_type": "markdown",
      "metadata": {
        "id": "view-in-github",
        "colab_type": "text"
      },
      "source": [
        "<a href=\"https://colab.research.google.com/github/tayfununal/nku_lesson/blob/main/Two_model_merging_for_continuous_NN.ipynb\" target=\"_parent\"><img src=\"https://colab.research.google.com/assets/colab-badge.svg\" alt=\"Open In Colab\"/></a>"
      ]
    },
    {
      "cell_type": "code",
      "metadata": {
        "id": "Bq2wYvpvlo2Y"
      },
      "source": [
        "import tensorflow as tf\n",
        "from tensorflow.keras.datasets import mnist\n",
        "from tensorflow.keras import Input, Model\n",
        "from tensorflow.keras.layers import Dense, Flatten\n",
        "from tensorflow.keras.losses import categorical_crossentropy, mse\n",
        "from tensorflow.keras.utils import to_categorical\n",
        "import numpy as np\n",
        "import matplotlib.pyplot as plt\n",
        "from tensorflow.keras.layers import concatenate\n"
      ],
      "execution_count": null,
      "outputs": []
    },
    {
      "cell_type": "code",
      "metadata": {
        "id": "Oe3Ttfjcl0F3"
      },
      "source": [
        "# Loading original data\n",
        "(X_train, y_train), (X_test, y_test) = mnist.load_data()\n",
        "\n",
        "# Reshaping the array to 4-dims so that it can work with the Keras API\n",
        "X_train = X_train.reshape(X_train.shape[0], 28, 28, 1)\n",
        "X_test = X_test.reshape(X_test.shape[0], 28, 28, 1)\n",
        "input_shape = (28, 28, 1)\n",
        "\n",
        "# Making sure that the values are float so that we can get decimal points after division\n",
        "X_train = X_train.astype('float32')\n",
        "X_test = X_test.astype('float32')\n",
        "\n",
        "# Normalizing the RGB codes by dividing it to the max RGB value.\n",
        "X_train /= 255\n",
        "X_test /= 255\n",
        "\n",
        "print('X_train shape:', X_train.shape)\n",
        "print('Number of images in X_train', X_train.shape[0])\n",
        "print('Number of images in X_test', X_test.shape[0])"
      ],
      "execution_count": null,
      "outputs": []
    },
    {
      "cell_type": "code",
      "metadata": {
        "id": "8vZ3K6k69h8I"
      },
      "source": [
        "# Adding epsilon\n",
        "tf.random.set_seed(8)\n",
        "epsilon = tf.random.normal((60000,28,28,1), mean=0, stddev= 0.1)\n",
        "epsilon_test = tf.random.normal((10000,28,28,1), mean=0, stddev= 0.1)\n",
        "\n",
        "X_train_with_epsilon = tf.math.add(X_train, epsilon)\n",
        "X_test_with_epsilon = tf.math.add(X_test, epsilon_test)\n",
        "\n",
        "print('X_train shape:', X_train_with_epsilon.shape)\n",
        "print('Number of images in X_train', X_train_with_epsilon.shape[0])\n",
        "print('Number of images in X_test', X_test_with_epsilon.shape[0])"
      ],
      "execution_count": null,
      "outputs": []
    },
    {
      "cell_type": "code",
      "metadata": {
        "id": "Ep8Hkpgol1_O"
      },
      "source": [
        "# Making y_train and y_test to categorical\n",
        "y_train = to_categorical(y_train)\n",
        "y_test = to_categorical(y_test)"
      ],
      "execution_count": null,
      "outputs": []
    },
    {
      "cell_type": "code",
      "metadata": {
        "id": "SqpxHIm4l3gu"
      },
      "source": [
        "np.random.seed(8)\n",
        "tf.random.set_seed(8)\n",
        "\n",
        "feature_input = Input(shape=(28,28))\n",
        "\n",
        "hidden = Flatten()(feature_input)\n",
        "hidden = Dense(512, activation=\"relu\")(hidden)\n",
        "hidden = Dense(512, activation=\"relu\")(hidden)\n",
        "\n",
        "output1 = Dense(10, activation='softmax',name=\"categorical_loss\")(hidden)\n",
        "\n",
        "# models with epsilon\n",
        "feature_input_with_epsilon = Input(shape=(28,28))\n",
        "\n",
        "hidden2 = Flatten()(feature_input_with_epsilon)\n",
        "hidden2 = Dense(512, activation=\"relu\")(hidden2)\n",
        "hidden2 = Dense(512, activation=\"relu\")(hidden2)\n",
        "\n",
        "output2 = Dense(10, activation='softmax', name=\"mse\")(hidden2)\n",
        "\n",
        "model = Model(inputs= [feature_input, feature_input_with_epsilon], outputs=[output1, output2])\n",
        "model.summary()"
      ],
      "execution_count": null,
      "outputs": []
    },
    {
      "cell_type": "code",
      "metadata": {
        "id": "Ht8--FzcmCR7"
      },
      "source": [
        "# Culculating Custom Loss\n",
        "model.compile(optimizer=\"Adam\", loss= ['categorical_crossentropy','mse'], loss_weights=[1,2], metrics=[\"accuracy\"])\n",
        "history = model.fit([X_train, X_train_with_epsilon], [y_train, y_train], epochs=5, verbose=2, validation_split=0.2)"
      ],
      "execution_count": null,
      "outputs": []
    },
    {
      "cell_type": "code",
      "metadata": {
        "id": "fIfuq5YM9O0U"
      },
      "source": [
        "plt.plot(history.history['loss'])\n",
        "plt.plot(history.history['val_loss'])\n",
        "plt.title('model loss')\n",
        "plt.ylabel('loss')\n",
        "plt.xlabel('epoch')\n",
        "plt.legend(['train', 'val'], loc='upper left')\n",
        "plt.show()"
      ],
      "execution_count": null,
      "outputs": []
    },
    {
      "cell_type": "code",
      "metadata": {
        "id": "g_Knz3f6LZfJ"
      },
      "source": [
        "model.evaluate([X_test, X_test], [y_test, y_test], batch_size=32, verbose=1)"
      ],
      "execution_count": null,
      "outputs": []
    },
    {
      "cell_type": "code",
      "metadata": {
        "id": "9QgJy7m4hHZo"
      },
      "source": [
        "predictions = model.predict([X_test, X_test])\n",
        "print(predictions[0])"
      ],
      "execution_count": null,
      "outputs": []
    },
    {
      "cell_type": "code",
      "metadata": {
        "id": "WdzjgHSLeaFf"
      },
      "source": [
        " fig, ax = plt.subplots(4,5, figsize=(15,15))\n",
        "\n",
        "for i in range(0,4):\n",
        "  for j in range(0,5):\n",
        "    random_int = np.random.randint(1,10000,1)\n",
        "    ax[i][j].imshow(X_test[random_int].reshape((28,28)))\n",
        "    ax[i][j].set_title(\"Value : {} \\nPredicted Value : {}\".format(int(np.where(y_test[random_int])[1]),np.argmax(predictions[1][random_int])))\n",
        "\n",
        "plt.show()"
      ],
      "execution_count": null,
      "outputs": []
    },
    {
      "cell_type": "code",
      "metadata": {
        "id": "jAkUaOXAg3ZV"
      },
      "source": [
        ""
      ],
      "execution_count": null,
      "outputs": []
    }
  ]
}