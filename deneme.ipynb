{
  "nbformat": 4,
  "nbformat_minor": 0,
  "metadata": {
    "colab": {
      "name": "deneme.ipynb",
      "private_outputs": true,
      "provenance": [],
      "authorship_tag": "ABX9TyOm4cK/C4uMN6Pn8TsWSncw",
      "include_colab_link": true
    },
    "kernelspec": {
      "name": "python3",
      "display_name": "Python 3"
    },
    "accelerator": "GPU"
  },
  "cells": [
    {
      "cell_type": "markdown",
      "metadata": {
        "id": "view-in-github",
        "colab_type": "text"
      },
      "source": [
        "<a href=\"https://colab.research.google.com/github/tayfununal/nku_lesson/blob/main/deneme.ipynb\" target=\"_parent\"><img src=\"https://colab.research.google.com/assets/colab-badge.svg\" alt=\"Open In Colab\"/></a>"
      ]
    },
    {
      "cell_type": "code",
      "metadata": {
        "id": "x3JR_S3BAXFG"
      },
      "source": [
        "from tensorflow.keras.models import Model\r\n",
        "from tensorflow.keras.layers import Dense, Input, Flatten, Conv2D, MaxPool2D, Dropout, BatchNormalization\r\n",
        "from tensorflow.keras.datasets import cifar10\r\n",
        "from tensorflow.keras import utils\r\n",
        "import matplotlib.pyplot as plt\r\n",
        "import tensorflow as tf"
      ],
      "execution_count": null,
      "outputs": []
    },
    {
      "cell_type": "code",
      "metadata": {
        "id": "2xDwk4pzAdrM"
      },
      "source": [
        "# Data\r\n",
        "(X_train, y_train), (X_test, y_test) = cifar10.load_data()"
      ],
      "execution_count": null,
      "outputs": []
    },
    {
      "cell_type": "code",
      "metadata": {
        "id": "IaKoeCLwA9JH"
      },
      "source": [
        "# Normalization\r\n",
        "X_train, X_test = X_train.astype('float32') / 255., X_test.astype('float32') / 255.\r\n",
        "\r\n",
        "# One - Hot Encoding\r\n",
        "y_train = utils.to_categorical(y_train, 10)\r\n",
        "y_test = utils.to_categorical(y_test, 10)"
      ],
      "execution_count": null,
      "outputs": []
    },
    {
      "cell_type": "code",
      "metadata": {
        "id": "_f4YxYHBBBOG"
      },
      "source": [
        "plt.imshow(X_train[15])\r\n",
        "print(y_train[15])"
      ],
      "execution_count": null,
      "outputs": []
    },
    {
      "cell_type": "code",
      "metadata": {
        "id": "frxxkF7sBJ4T"
      },
      "source": [
        "resize_and_rescale = tf.keras.Sequential([\r\n",
        "  tf.keras.layers.experimental.preprocessing.RandomFlip(\"horizontal_and_vertical\"),\r\n",
        "  tf.keras.layers.experimental.preprocessing.RandomRotation(0.2)\r\n",
        "])"
      ],
      "execution_count": null,
      "outputs": []
    },
    {
      "cell_type": "code",
      "metadata": {
        "id": "GVB0p9rLCE3_"
      },
      "source": [
        "result = resize_and_rescale(X_train)\r\n",
        "plt.imshow(result)"
      ],
      "execution_count": null,
      "outputs": []
    },
    {
      "cell_type": "code",
      "metadata": {
        "id": "AOTTQXuDCRml"
      },
      "source": [
        ""
      ],
      "execution_count": null,
      "outputs": []
    }
  ]
}