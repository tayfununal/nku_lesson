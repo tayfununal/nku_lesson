{
  "nbformat": 4,
  "nbformat_minor": 0,
  "metadata": {
    "colab": {
      "name": "CIFAR10_with_ResNet.ipynb",
      "private_outputs": true,
      "provenance": [],
      "authorship_tag": "ABX9TyNMxxG9GEROnvDLBJUyGzB/",
      "include_colab_link": true
    },
    "kernelspec": {
      "name": "python3",
      "display_name": "Python 3"
    },
    "accelerator": "GPU"
  },
  "cells": [
    {
      "cell_type": "markdown",
      "metadata": {
        "id": "view-in-github",
        "colab_type": "text"
      },
      "source": [
        "<a href=\"https://colab.research.google.com/github/tayfununal/nku_lesson/blob/main/CIFAR10_with_ResNet.ipynb\" target=\"_parent\"><img src=\"https://colab.research.google.com/assets/colab-badge.svg\" alt=\"Open In Colab\"/></a>"
      ]
    },
    {
      "cell_type": "code",
      "metadata": {
        "id": "Y-a9gmoppkWL"
      },
      "source": [
        "import tensorflow as tf\r\n",
        "import matplotlib.pyplot as plt\r\n",
        "import numpy as np\r\n",
        "from tensorflow.keras.preprocessing.image import ImageDataGenerator\r\n",
        "from tensorflow.keras.layers import Dense, Input, Flatten, Conv2D, MaxPool2D, Dropout, BatchNormalization, GlobalAveragePooling2D, add\r\n",
        "from tensorflow.keras import Sequential, Model, utils, optimizers, losses\r\n",
        "import os\r\n",
        "from tensorflow.keras.datasets import cifar10"
      ],
      "execution_count": null,
      "outputs": []
    },
    {
      "cell_type": "code",
      "metadata": {
        "id": "lsZghaIqptfy"
      },
      "source": [
        "# Data\r\n",
        "(x_train, y_train), (x_test, y_test) = cifar10.load_data()"
      ],
      "execution_count": null,
      "outputs": []
    },
    {
      "cell_type": "code",
      "metadata": {
        "id": "02lEQLOgpuiV"
      },
      "source": [
        "# Normalization\r\n",
        "x_train, x_test = x_train.astype('float32') / 255., x_test.astype('float32') / 255.\r\n",
        "\r\n",
        "#One - Hot Encoding\r\n",
        "y_train = utils.to_categorical(y_train, 10)\r\n",
        "y_test = utils.to_categorical(y_test, 10)"
      ],
      "execution_count": null,
      "outputs": []
    },
    {
      "cell_type": "code",
      "metadata": {
        "id": "I6LEsJmbqegq"
      },
      "source": [
        "inputs = Input(shape=(32, 32, 3), name=\"img\")\r\n",
        "x = Conv2D(32, 3, activation=\"relu\")(inputs)\r\n",
        "x = Conv2D(64, 3, activation=\"relu\")(x)\r\n",
        "block_1_output = MaxPool2D((3,3))(x)\r\n",
        "\r\n",
        "x = Conv2D(64, 3, activation=\"relu\", padding=\"same\")(block_1_output)\r\n",
        "x = Conv2D(64, 3, activation=\"relu\", padding=\"same\")(x)\r\n",
        "x = BatchNormalization()(x)\r\n",
        "block_2_output = add([x, block_1_output])\r\n",
        "\r\n",
        "x = Conv2D(64, 3, activation=\"relu\", padding=\"same\")(block_2_output)\r\n",
        "x = Conv2D(64, 3, activation=\"relu\", padding=\"same\")(x)\r\n",
        "x = BatchNormalization()(x)\r\n",
        "block_3_output = add([x, block_2_output])\r\n",
        "\r\n",
        "x = Conv2D(64, 3, activation=\"relu\", padding=\"same\")(block_3_output)\r\n",
        "x = Conv2D(64, 3, activation=\"relu\", padding=\"same\")(x)\r\n",
        "x = Dropout(0.5)(x)\r\n",
        "x = BatchNormalization()(x)\r\n",
        "block_4_output = add([x, block_3_output])\r\n",
        "\r\n",
        "x = Conv2D(64, 3, activation=\"relu\", padding=\"same\")(block_4_output)\r\n",
        "x = Conv2D(64, 3, activation=\"relu\", padding=\"same\")(x)\r\n",
        "x = BatchNormalization()(x)\r\n",
        "block_5_output = add([x, block_4_output])\r\n",
        "\r\n",
        "x = Conv2D(64, 3, activation=\"relu\")(block_5_output)\r\n",
        "x = GlobalAveragePooling2D()(x)\r\n",
        "\r\n",
        "x = Dense(256, activation=\"relu\")(x)\r\n",
        "x = Dropout(0.5)(x)\r\n",
        "\r\n",
        "x = Dense(128, activation=\"relu\")(x)\r\n",
        "x = Dropout(0.5)(x)\r\n",
        "outputs = Dense(10)(x)\r\n",
        "\r\n",
        "model = Model(inputs, outputs, name=\"toy_resnet\")\r\n",
        "model.summary()"
      ],
      "execution_count": null,
      "outputs": []
    },
    {
      "cell_type": "code",
      "metadata": {
        "id": "XQDcOgFLqxeK"
      },
      "source": [
        "model.compile(\r\n",
        "    optimizer= optimizers.Adam(1e-3),\r\n",
        "    loss=losses.CategoricalCrossentropy(from_logits=True),\r\n",
        "    metrics=[\"acc\"],\r\n",
        ")"
      ],
      "execution_count": null,
      "outputs": []
    },
    {
      "cell_type": "code",
      "metadata": {
        "id": "hW8Aq73drmxX"
      },
      "source": [
        "model.fit(x_train, y_train, batch_size=128, epochs=10, validation_data=(x_test,y_test))"
      ],
      "execution_count": null,
      "outputs": []
    },
    {
      "cell_type": "code",
      "metadata": {
        "id": "unTHFqp7r3Ye"
      },
      "source": [
        ""
      ],
      "execution_count": null,
      "outputs": []
    }
  ]
}