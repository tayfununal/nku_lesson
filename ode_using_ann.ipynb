{
  "nbformat": 4,
  "nbformat_minor": 0,
  "metadata": {
    "colab": {
      "name": "ode_using_ann.ipynb",
      "private_outputs": true,
      "provenance": [],
      "authorship_tag": "ABX9TyMVgojVGzKi76kKm6GzWRdn",
      "include_colab_link": true
    },
    "kernelspec": {
      "name": "python3",
      "display_name": "Python 3"
    },
    "language_info": {
      "name": "python"
    },
    "accelerator": "GPU"
  },
  "cells": [
    {
      "cell_type": "markdown",
      "metadata": {
        "id": "view-in-github",
        "colab_type": "text"
      },
      "source": [
        "<a href=\"https://colab.research.google.com/github/tayfununal/nku_lesson/blob/main/ode_using_ann.ipynb\" target=\"_parent\"><img src=\"https://colab.research.google.com/assets/colab-badge.svg\" alt=\"Open In Colab\"/></a>"
      ]
    },
    {
      "cell_type": "code",
      "metadata": {
        "id": "90hcAD7nLqLv"
      },
      "source": [
        "import numpy as np\n",
        "import matplotlib.pyplot as plt\n",
        "import tensorflow as tf\n"
      ],
      "execution_count": null,
      "outputs": []
    },
    {
      "cell_type": "code",
      "metadata": {
        "id": "h3NbbIxONQ-w"
      },
      "source": [
        "def y(x):\n",
        "  return np.exp(x)"
      ],
      "execution_count": null,
      "outputs": []
    },
    {
      "cell_type": "code",
      "metadata": {
        "id": "TB3xBxmYNm9X"
      },
      "source": [
        "x = np.arange(0,1.1,0.05)"
      ],
      "execution_count": null,
      "outputs": []
    },
    {
      "cell_type": "code",
      "metadata": {
        "id": "GyHEc-fzNs_S"
      },
      "source": [
        "y = y(x)"
      ],
      "execution_count": null,
      "outputs": []
    },
    {
      "cell_type": "code",
      "metadata": {
        "id": "bVFLmj1WNtbZ"
      },
      "source": [
        "print(x)\n",
        "print(y)"
      ],
      "execution_count": null,
      "outputs": []
    },
    {
      "cell_type": "code",
      "metadata": {
        "id": "UY0YAU3USW5M"
      },
      "source": [
        "x_tensor = tf.convert_to_tensor(x, dtype=tf.float64) \n",
        "x_tensor"
      ],
      "execution_count": null,
      "outputs": []
    },
    {
      "cell_type": "code",
      "metadata": {
        "id": "5EP7yMQHOSJ2"
      },
      "source": [
        "input = tf.keras.Input(shape=(1,))\n",
        "hidden = tf.keras.layers.Dense(32, activation='relu')(input)\n",
        "output = tf.keras.layers.Dense(1)(hidden)\n",
        "\n",
        "model = tf.keras.Model(input,output)"
      ],
      "execution_count": null,
      "outputs": []
    },
    {
      "cell_type": "code",
      "metadata": {
        "id": "IN6V_HnZREVy"
      },
      "source": [
        "model.summary()"
      ],
      "execution_count": null,
      "outputs": []
    },
    {
      "cell_type": "code",
      "metadata": {
        "id": "hNIcc1uWiQ38"
      },
      "source": [
        "model.compile(optimizer='adam', loss='mse')"
      ],
      "execution_count": null,
      "outputs": []
    },
    {
      "cell_type": "code",
      "metadata": {
        "id": "nXaV77oHihh2"
      },
      "source": [
        "model.fit(x, y, epochs=1000)"
      ],
      "execution_count": null,
      "outputs": []
    },
    {
      "cell_type": "code",
      "metadata": {
        "id": "w2_gISIEimBB"
      },
      "source": [
        "def y(x):\n",
        "  return np.exp(x)\n",
        "x_test = np.arange(0,1.1,0.05)\n",
        "y_true = y(x_test)\n",
        "y_pred = model.predict(tf.convert_to_tensor(x_test, dtype=tf.float64) )"
      ],
      "execution_count": null,
      "outputs": []
    },
    {
      "cell_type": "code",
      "metadata": {
        "id": "UvXwaMtnjdg_"
      },
      "source": [
        "y_true"
      ],
      "execution_count": null,
      "outputs": []
    },
    {
      "cell_type": "code",
      "metadata": {
        "id": "etIhYJ6GpU4E"
      },
      "source": [
        "1 + x_test*y_pred.T"
      ],
      "execution_count": null,
      "outputs": []
    },
    {
      "cell_type": "code",
      "metadata": {
        "id": "NfgmbNzWlU8k"
      },
      "source": [
        "y_fonk = 1 + x_test*y_pred.T"
      ],
      "execution_count": null,
      "outputs": []
    },
    {
      "cell_type": "code",
      "metadata": {
        "id": "b_8yWRGipzLK"
      },
      "source": [
        "y_fonk = np.reshape(y_fonk, (22,))"
      ],
      "execution_count": null,
      "outputs": []
    },
    {
      "cell_type": "code",
      "metadata": {
        "id": "EICECun6lWGA"
      },
      "source": [
        "t = np.arange(0,22,1)\n",
        "\n",
        "plt.plot(t,y_true, color='b')\n",
        "plt.plot(t,y_fonk, color='r')\n",
        "plt.show()"
      ],
      "execution_count": null,
      "outputs": []
    },
    {
      "cell_type": "code",
      "metadata": {
        "id": "mIVQy7lrptFr"
      },
      "source": [
        ""
      ],
      "execution_count": null,
      "outputs": []
    }
  ]
}