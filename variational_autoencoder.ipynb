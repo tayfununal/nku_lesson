{
  "nbformat": 4,
  "nbformat_minor": 0,
  "metadata": {
    "colab": {
      "name": "variational_autoencoder.ipynb",
      "private_outputs": true,
      "provenance": [],
      "authorship_tag": "ABX9TyO+LZuGbFZPCLw0wFmtvEH3",
      "include_colab_link": true
    },
    "kernelspec": {
      "name": "python3",
      "display_name": "Python 3"
    },
    "language_info": {
      "name": "python"
    },
    "accelerator": "GPU"
  },
  "cells": [
    {
      "cell_type": "markdown",
      "metadata": {
        "id": "view-in-github",
        "colab_type": "text"
      },
      "source": [
        "<a href=\"https://colab.research.google.com/github/tayfununal/nku_lesson/blob/main/variational_autoencoder.ipynb\" target=\"_parent\"><img src=\"https://colab.research.google.com/assets/colab-badge.svg\" alt=\"Open In Colab\"/></a>"
      ]
    },
    {
      "cell_type": "code",
      "metadata": {
        "id": "OWZgdI-_AtJB"
      },
      "source": [
        "import numpy as np\n",
        "import matplotlib.pyplot as plt\n",
        "import pandas as pd\n",
        "import seaborn as sns\n",
        "import warnings\n",
        "warnings.filterwarnings('ignore')\n",
        "%matplotlib inline"
      ],
      "execution_count": null,
      "outputs": []
    },
    {
      "cell_type": "code",
      "metadata": {
        "id": "ZMz8FaWjAug2"
      },
      "source": [
        "import tensorflow\n",
        "tensorflow.compat.v1.disable_eager_execution()"
      ],
      "execution_count": null,
      "outputs": []
    },
    {
      "cell_type": "code",
      "metadata": {
        "id": "AmbOaLG8A4cl"
      },
      "source": [
        "from tensorflow.keras.datasets import mnist\n",
        "\n",
        "(trainX, trainy), (testX, testy) = mnist.load_data()\n",
        "\n",
        "print('Training data shapes: X=%s, y=%s' % (trainX.shape, trainy.shape))\n",
        "print('Testing data shapes: X=%s, y=%s' % (testX.shape, testy.shape))\n",
        "\n",
        "for j in range(5):\n",
        "    i = np.random.randint(0, 10000)\n",
        "    plt.subplot(550 + 1 + j)\n",
        "    plt.imshow(trainX[i], cmap='gray')\n",
        "    plt.title(trainy[i])\n",
        "plt.show()"
      ],
      "execution_count": null,
      "outputs": []
    },
    {
      "cell_type": "code",
      "metadata": {
        "id": "g_OITOsfA8kM"
      },
      "source": [
        "train_data = trainX.astype('float32')/255\n",
        "test_data = testX.astype('float32')/255\n",
        "\n",
        "train_data = np.reshape(train_data, (60000, 28, 28, 1))\n",
        "test_data = np.reshape(test_data, (10000, 28, 28, 1))\n",
        "\n",
        "print (train_data.shape, test_data.shape)"
      ],
      "execution_count": null,
      "outputs": []
    },
    {
      "cell_type": "code",
      "metadata": {
        "id": "NgRKDqigA-vt"
      },
      "source": [
        "import tensorflow\n",
        "\n",
        "input_data = tensorflow.keras.layers.Input(shape=(28, 28, 1))\n",
        "\n",
        "encoder = tensorflow.keras.layers.Conv2D(64, (5,5), activation='relu')(input_data)\n",
        "encoder = tensorflow.keras.layers.MaxPooling2D((2,2))(encoder)\n",
        "\n",
        "encoder = tensorflow.keras.layers.Conv2D(64, (3,3), activation='relu')(encoder)\n",
        "encoder = tensorflow.keras.layers.MaxPooling2D((2,2))(encoder)\n",
        "\n",
        "encoder = tensorflow.keras.layers.Conv2D(32, (3,3), activation='relu')(encoder)\n",
        "encoder = tensorflow.keras.layers.MaxPooling2D((2,2))(encoder)\n",
        "\n",
        "encoder = tensorflow.keras.layers.Flatten()(encoder)\n",
        "encoder = tensorflow.keras.layers.Dense(16)(encoder)"
      ],
      "execution_count": null,
      "outputs": []
    },
    {
      "cell_type": "code",
      "metadata": {
        "id": "aXXr_P-bBAz_"
      },
      "source": [
        "def sample_latent_features(distribution):\n",
        "    distribution_mean, distribution_variance = distribution\n",
        "    batch_size = tensorflow.shape(distribution_variance)[0]\n",
        "    random = tensorflow.keras.backend.random_normal(shape=(batch_size, tensorflow.shape(distribution_variance)[1]))\n",
        "    return distribution_mean + tensorflow.exp(0.5 * distribution_variance) * random"
      ],
      "execution_count": null,
      "outputs": []
    },
    {
      "cell_type": "code",
      "metadata": {
        "id": "uSoevasgBG4X"
      },
      "source": [
        "distribution_mean = tensorflow.keras.layers.Dense(2, name='mean')(encoder)\n",
        "distribution_variance = tensorflow.keras.layers.Dense(2, name='log_variance')(encoder)\n",
        "latent_encoding = tensorflow.keras.layers.Lambda(sample_latent_features)([distribution_mean, distribution_variance])"
      ],
      "execution_count": null,
      "outputs": []
    },
    {
      "cell_type": "code",
      "metadata": {
        "id": "S6bfpusUBIno"
      },
      "source": [
        "encoder_model = tensorflow.keras.Model(input_data, latent_encoding)\n",
        "encoder_model.summary()"
      ],
      "execution_count": null,
      "outputs": []
    },
    {
      "cell_type": "code",
      "metadata": {
        "id": "oJ-73EpZBKSJ"
      },
      "source": [
        "decoder_input = tensorflow.keras.layers.Input(shape=(2))\n",
        "decoder = tensorflow.keras.layers.Dense(64)(decoder_input)\n",
        "decoder = tensorflow.keras.layers.Reshape((1, 1, 64))(decoder)\n",
        "decoder = tensorflow.keras.layers.Conv2DTranspose(64, (3,3), activation='relu')(decoder)\n",
        "\n",
        "decoder = tensorflow.keras.layers.Conv2DTranspose(64, (3,3), activation='relu')(decoder)\n",
        "decoder = tensorflow.keras.layers.UpSampling2D((2,2))(decoder)\n",
        "\n",
        "decoder = tensorflow.keras.layers.Conv2DTranspose(64, (3,3), activation='relu')(decoder)\n",
        "decoder = tensorflow.keras.layers.UpSampling2D((2,2))(decoder)\n",
        "\n",
        "decoder_output = tensorflow.keras.layers.Conv2DTranspose(1, (5,5), activation='relu')(decoder)"
      ],
      "execution_count": null,
      "outputs": []
    },
    {
      "cell_type": "code",
      "metadata": {
        "id": "Zh7rhhGYBMN0"
      },
      "source": [
        "decoder_model = tensorflow.keras.Model(decoder_input, decoder_output)\n",
        "decoder_model.summary()"
      ],
      "execution_count": null,
      "outputs": []
    },
    {
      "cell_type": "code",
      "metadata": {
        "id": "eY4CuB9EBODf"
      },
      "source": [
        "encoded = encoder_model(input_data)\n",
        "decoded = decoder_model(encoded)"
      ],
      "execution_count": null,
      "outputs": []
    },
    {
      "cell_type": "code",
      "metadata": {
        "id": "mAtqQqa8BQDe"
      },
      "source": [
        "autoencoder = tensorflow.keras.models.Model(input_data, decoded)"
      ],
      "execution_count": null,
      "outputs": []
    },
    {
      "cell_type": "code",
      "metadata": {
        "id": "RahvurhsBRv5"
      },
      "source": [
        "def get_loss(distribution_mean, distribution_variance):\n",
        "    \n",
        "    def get_reconstruction_loss(y_true, y_pred):\n",
        "        reconstruction_loss = tensorflow.keras.losses.mse(y_true, y_pred)\n",
        "        reconstruction_loss_batch = tensorflow.reduce_mean(reconstruction_loss)\n",
        "        return reconstruction_loss_batch*28*28\n",
        "    \n",
        "    def get_kl_loss(distribution_mean, distribution_variance):\n",
        "        kl_loss = 1 + distribution_variance - tensorflow.square(distribution_mean) - tensorflow.exp(distribution_variance)\n",
        "        kl_loss_batch = tensorflow.reduce_mean(kl_loss)\n",
        "        return kl_loss_batch*(-0.5)\n",
        "    \n",
        "    def total_loss(y_true, y_pred):\n",
        "        reconstruction_loss_batch = get_reconstruction_loss(y_true, y_pred)\n",
        "        kl_loss_batch = get_kl_loss(distribution_mean, distribution_variance)\n",
        "        return reconstruction_loss_batch + kl_loss_batch\n",
        "    \n",
        "    return total_loss"
      ],
      "execution_count": null,
      "outputs": []
    },
    {
      "cell_type": "code",
      "metadata": {
        "id": "CqeRkYRhBTJx"
      },
      "source": [
        "autoencoder.compile(loss=get_loss(distribution_mean, distribution_variance), optimizer='adam')\n",
        "autoencoder.summary()"
      ],
      "execution_count": null,
      "outputs": []
    },
    {
      "cell_type": "code",
      "metadata": {
        "id": "Xnf_TIVOBU4z"
      },
      "source": [
        "autoencoder.fit(train_data, train_data, epochs=20, batch_size=64, validation_data=(test_data, test_data))\n"
      ],
      "execution_count": null,
      "outputs": []
    },
    {
      "cell_type": "code",
      "metadata": {
        "id": "ODHq8gpkBXgz"
      },
      "source": [
        "offset=400\n",
        "print (\"Real Test Images\")\n",
        "# Real Images\n",
        "for i in range(9):\n",
        "    plt.subplot(330 + 1 + i)\n",
        "    plt.imshow(test_data[i+offset,:,:, -1], cmap='gray')\n",
        "plt.show()\n",
        "\n",
        "# Reconstructed Images\n",
        "print (\"Reconstructed Images with Variational Autoencoder\")\n",
        "for i in range(9):\n",
        "    plt.subplot(330 + 1 + i)\n",
        "    output = autoencoder.predict(np.array([test_data[i+offset]]))\n",
        "    op_image = np.reshape(output[0]*255, (28, 28))\n",
        "    plt.imshow(op_image, cmap='gray')\n",
        "plt.show()"
      ],
      "execution_count": null,
      "outputs": []
    },
    {
      "cell_type": "code",
      "metadata": {
        "id": "4XDfabSXCJx8"
      },
      "source": [
        "x = []\n",
        "y = []\n",
        "z = []\n",
        "for i in range(10000):\n",
        "    z.append(testy[i])\n",
        "    op = encoder_model.predict(np.array([test_data[i]]))\n",
        "    x.append(op[0][0])\n",
        "    y.append(op[0][1])"
      ],
      "execution_count": null,
      "outputs": []
    },
    {
      "cell_type": "code",
      "metadata": {
        "id": "G33bDp7TCL6s"
      },
      "source": [
        "df = pd.DataFrame()\n",
        "df['x'] = x\n",
        "df['y'] = y\n",
        "df['z'] = [\"digit-\"+str(k) for k in z]\n",
        "\n",
        "plt.figure(figsize=(8, 6))\n",
        "sns.scatterplot(x='x', y='y', hue='z', data=df)\n",
        "plt.show()"
      ],
      "execution_count": null,
      "outputs": []
    },
    {
      "cell_type": "code",
      "metadata": {
        "id": "x7zEIjIpCNkl"
      },
      "source": [
        "generator_model = decoder_model"
      ],
      "execution_count": null,
      "outputs": []
    },
    {
      "cell_type": "code",
      "metadata": {
        "id": "MbtgTVwnCPeL"
      },
      "source": [
        "x_values = np.linspace(-3, 3, 30)\n",
        "y_values = np.linspace(-3, 3, 30)"
      ],
      "execution_count": null,
      "outputs": []
    },
    {
      "cell_type": "code",
      "metadata": {
        "id": "RvsHK2MmCRmX"
      },
      "source": [
        "figure = np.zeros((28 * 30, 28 * 30))\n",
        "for ix, x in enumerate(x_values):\n",
        "    for iy, y in enumerate(y_values):\n",
        "        latent_point = np.array([[x, y]])\n",
        "        generated_image = generator_model.predict(latent_point)[0]\n",
        "        figure[ix*28:(ix+1)*28, iy*28:(iy+1)*28,] = generated_image[:,:,-1]\n",
        " \n",
        "plt.figure(figsize=(15, 15))\n",
        "plt.imshow(figure, cmap='gray', extent=[3,-3,3,-3])\n",
        "plt.show()"
      ],
      "execution_count": null,
      "outputs": []
    },
    {
      "cell_type": "code",
      "metadata": {
        "id": "A8raiZTJCTkV"
      },
      "source": [
        ""
      ],
      "execution_count": null,
      "outputs": []
    }
  ]
}