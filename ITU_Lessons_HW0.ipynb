{
  "nbformat": 4,
  "nbformat_minor": 0,
  "metadata": {
    "colab": {
      "name": "ITU_Lessons_HW0.ipynb",
      "private_outputs": true,
      "provenance": [],
      "toc_visible": true,
      "authorship_tag": "ABX9TyOqqW2VE4KcWA7E0OmA5DkQ",
      "include_colab_link": true
    },
    "kernelspec": {
      "name": "python3",
      "display_name": "Python 3"
    },
    "accelerator": "GPU"
  },
  "cells": [
    {
      "cell_type": "markdown",
      "metadata": {
        "id": "view-in-github",
        "colab_type": "text"
      },
      "source": [
        "<a href=\"https://colab.research.google.com/github/tayfununal/nku_lesson/blob/main/ITU_Lessons_HW0.ipynb\" target=\"_parent\"><img src=\"https://colab.research.google.com/assets/colab-badge.svg\" alt=\"Open In Colab\"/></a>"
      ]
    },
    {
      "cell_type": "markdown",
      "metadata": {
        "id": "cntsyvVcdWRt"
      },
      "source": [
        "#**HOMEWORK 0**"
      ]
    },
    {
      "cell_type": "markdown",
      "metadata": {
        "id": "UZTmISIme3NF"
      },
      "source": [
        "##**Question 1 - Part 1 : Numpy**"
      ]
    },
    {
      "cell_type": "code",
      "metadata": {
        "id": "Oc0eBfi7dVhJ"
      },
      "source": [
        "import numpy as np"
      ],
      "execution_count": null,
      "outputs": []
    },
    {
      "cell_type": "code",
      "metadata": {
        "id": "vh9diaZIdPNk"
      },
      "source": [
        "A = np.array([[-1, 1, -3],[2, -2, 2],[0, 3, -3]])\r\n",
        "B = np.array([[0, 0, 0],[1, 0, 0],[0, 0, 0]])\r\n",
        "C = np.array([[3, 1],[4, 1],[5, 1]])\r\n",
        "D = np.array([[5],[4],[3]])"
      ],
      "execution_count": null,
      "outputs": []
    },
    {
      "cell_type": "code",
      "metadata": {
        "id": "_1vWJYyBd2PT"
      },
      "source": [
        "print('A =',A)\r\n",
        "print('B =',B)\r\n",
        "print('C =',C)\r\n",
        "print('D =',D)"
      ],
      "execution_count": null,
      "outputs": []
    },
    {
      "cell_type": "code",
      "metadata": {
        "id": "fZ5_RvuJd5bp"
      },
      "source": [
        "# A x B\r\n",
        "result_AxB = np.dot(A,B)\r\n",
        "result_AxB"
      ],
      "execution_count": null,
      "outputs": []
    },
    {
      "cell_type": "code",
      "metadata": {
        "id": "SAdwYa_sflc2"
      },
      "source": [
        "# A x (A^T)\r\n",
        "\r\n",
        "result_AxAT = np.dot(A,A.T)\r\n",
        "result_AxAT"
      ],
      "execution_count": null,
      "outputs": []
    },
    {
      "cell_type": "code",
      "metadata": {
        "id": "379HjaXGf7W8"
      },
      "source": [
        "# A * B\r\n",
        "result_AB = A*B\r\n",
        "result_AB"
      ],
      "execution_count": null,
      "outputs": []
    },
    {
      "cell_type": "code",
      "metadata": {
        "id": "6fIbFc2fgVjl"
      },
      "source": [
        "# A * AT\r\n",
        "\r\n",
        "result_AAT = A * A.T\r\n",
        "result_AAT"
      ],
      "execution_count": null,
      "outputs": []
    },
    {
      "cell_type": "code",
      "metadata": {
        "id": "QXoLF9o7gdaT"
      },
      "source": [
        "# C * D\r\n",
        "\r\n",
        "result_CD = C * D\r\n",
        "result_CD"
      ],
      "execution_count": null,
      "outputs": []
    },
    {
      "cell_type": "code",
      "metadata": {
        "id": "0C-98G1kg7If"
      },
      "source": [
        "# solve [A|D]\r\n",
        "np.linalg.solve(A,D)"
      ],
      "execution_count": null,
      "outputs": []
    },
    {
      "cell_type": "code",
      "metadata": {
        "id": "TG4YG0NFhOUx"
      },
      "source": [
        "# Solve [B|D] ------>>>>> Singular Matrix\r\n",
        "np.linalg.solve(B,D)"
      ],
      "execution_count": null,
      "outputs": []
    },
    {
      "cell_type": "code",
      "metadata": {
        "id": "13x1xt4vhY_R"
      },
      "source": [
        "# Solve [C|D] ---->>>>>>>< There is no solution.\r\n",
        "np.linalg.solve(C,D)"
      ],
      "execution_count": null,
      "outputs": []
    },
    {
      "cell_type": "markdown",
      "metadata": {
        "id": "A-4qEYGXifoq"
      },
      "source": [
        "##**Question 2 - Part 2 : Image Manipulation - I**"
      ]
    },
    {
      "cell_type": "code",
      "metadata": {
        "id": "5TCJMvaTip-f"
      },
      "source": [
        "import cv2\r\n",
        "from google.colab.patches import cv2_imshow"
      ],
      "execution_count": null,
      "outputs": []
    },
    {
      "cell_type": "code",
      "metadata": {
        "id": "_I9MsSehjQNO"
      },
      "source": [
        "background_images =[]\r\n",
        "for i in range(0,180):\r\n",
        "  background = cv2.imread(f'/content/cat_{i}.png')\r\n",
        "  background_height = background.shape[0]\r\n",
        "  background_width = background.shape[1]\r\n",
        "  ratio = 360 / background_height\r\n",
        "\r\n",
        "  background = cv2.resize(background, (int(background_width * ratio), 360))\r\n",
        "  background_images.append(background)"
      ],
      "execution_count": null,
      "outputs": []
    },
    {
      "cell_type": "code",
      "metadata": {
        "id": "iuBBRZIxUFXg"
      },
      "source": [
        "im = background_images[0]\r\n",
        "im_g = im[:,:,1].flatten()\r\n",
        "im_b = im[:,:,0].flatten()\r\n",
        "im_r = im[:,:,2].flatten()\r\n",
        "for i in range(0, im_g.shape[0]):\r\n",
        "  if (im_g[i]<180)or(im_b[i]>150):\r\n",
        "    continue\r\n",
        "  else:\r\n",
        "    im_g[i] = 255\r\n",
        "    im_b[i] = 255\r\n",
        "    im_r[i] = 255"
      ],
      "execution_count": null,
      "outputs": []
    },
    {
      "cell_type": "code",
      "metadata": {
        "id": "OTiXOkCIxsXU"
      },
      "source": [
        "im[:,:,0] =im_b.reshape(360,640)\r\n",
        "im[:,:,1] =im_g.reshape(360,640)\r\n",
        "im[:,:,2] =im_r.reshape(360,640)\r\n",
        "cv2_imshow(im)"
      ],
      "execution_count": null,
      "outputs": []
    },
    {
      "cell_type": "code",
      "metadata": {
        "id": "hUqUNZ7G0Z1M"
      },
      "source": [
        ""
      ],
      "execution_count": null,
      "outputs": []
    }
  ]
}