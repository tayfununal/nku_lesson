{
  "nbformat": 4,
  "nbformat_minor": 0,
  "metadata": {
    "colab": {
      "name": "CIFAR10_with_ResNet.ipynb",
      "private_outputs": true,
      "provenance": [],
      "authorship_tag": "ABX9TyPXsR5QUcf1GOs10Jr3Ssxl",
      "include_colab_link": true
    },
    "kernelspec": {
      "name": "python3",
      "display_name": "Python 3"
    },
    "accelerator": "GPU"
  },
  "cells": [
    {
      "cell_type": "markdown",
      "metadata": {
        "id": "view-in-github",
        "colab_type": "text"
      },
      "source": [
        "<a href=\"https://colab.research.google.com/github/tayfununal/nku_lesson/blob/main/CIFAR10_with_ResNet.ipynb\" target=\"_parent\"><img src=\"https://colab.research.google.com/assets/colab-badge.svg\" alt=\"Open In Colab\"/></a>"
      ]
    },
    {
      "cell_type": "code",
      "metadata": {
        "id": "Y-a9gmoppkWL"
      },
      "source": [
        "import tensorflow as tf\r\n",
        "import matplotlib.pyplot as plt\r\n",
        "import numpy as np\r\n",
        "\r\n",
        "from tensorflow.keras.layers import Dense, Input, Flatten, Conv2D, MaxPool2D, Dropout, BatchNormalization, GlobalAveragePooling2D, add\r\n",
        "from tensorflow.keras import Sequential, Model, utils, optimizers, losses\r\n",
        "from tensorflow.keras.datasets import cifar10"
      ],
      "execution_count": null,
      "outputs": []
    },
    {
      "cell_type": "code",
      "metadata": {
        "id": "lsZghaIqptfy"
      },
      "source": [
        "# Data\r\n",
        "(x_train, y_train), (x_test, y_test) = cifar10.load_data()"
      ],
      "execution_count": null,
      "outputs": []
    },
    {
      "cell_type": "code",
      "metadata": {
        "id": "02lEQLOgpuiV"
      },
      "source": [
        "# Normalization\r\n",
        "x_train, x_test = x_train.astype('float32') / 255., x_test.astype('float32') / 255."
      ],
      "execution_count": null,
      "outputs": []
    },
    {
      "cell_type": "code",
      "metadata": {
        "id": "8zlAwyaeFkt4"
      },
      "source": [
        "#One - Hot Encoding\r\n",
        "y_train = utils.to_categorical(y_train, 10)\r\n",
        "y_test = utils.to_categorical(y_test, 10)"
      ],
      "execution_count": null,
      "outputs": []
    },
    {
      "cell_type": "code",
      "metadata": {
        "id": "I6LEsJmbqegq"
      },
      "source": [
        "#Model\r\n",
        "\r\n",
        "inputs = Input(shape=(32, 32, 3), name=\"img\")\r\n",
        "x = Conv2D(64, 3, activation=\"relu\")(inputs)\r\n",
        "x = Conv2D(64, 3, activation=\"relu\")(x)\r\n",
        "x = BatchNormalization()(x)\r\n",
        "block_1_output = MaxPool2D((3,3))(x)\r\n",
        "\r\n",
        "x = Conv2D(64, 3, activation=\"relu\", padding=\"same\")(block_1_output)\r\n",
        "x = Conv2D(64, 3, activation=\"relu\", padding=\"same\")(x)\r\n",
        "x = BatchNormalization()(x)\r\n",
        "block_2_output = add([x, block_1_output])\r\n",
        "\r\n",
        "x = Conv2D(64, 3, activation=\"relu\", padding=\"same\")(block_2_output)\r\n",
        "x = Conv2D(64, 3, activation=\"relu\", padding=\"same\")(x)\r\n",
        "x = BatchNormalization()(x)\r\n",
        "block_3_output = add([x, block_2_output])\r\n",
        "\r\n",
        "x = Conv2D(64, 3, activation=\"relu\", padding=\"same\")(block_3_output)\r\n",
        "x = Conv2D(64, 3, activation=\"relu\", padding=\"same\")(x)\r\n",
        "x = BatchNormalization()(x)\r\n",
        "block_4_output = add([x, block_3_output])\r\n",
        "\r\n",
        "x = Conv2D(64, 3, activation=\"relu\", padding='same')(block_4_output)\r\n",
        "x = Conv2D(64, 3, activation=\"relu\", padding='same')(x)\r\n",
        "x = BatchNormalization()(x)\r\n",
        "block_5_output = add([x, block_4_output])\r\n",
        "\r\n",
        "x = Conv2D(64, 3, activation=\"relu\", padding=\"same\")(block_5_output)\r\n",
        "x = Conv2D(64, 3, activation=\"relu\", padding=\"same\")(x)\r\n",
        "x = BatchNormalization()(x)\r\n",
        "block_6_output = add([x, block_5_output])\r\n",
        "\r\n",
        "x = Conv2D(64, 3, activation=\"relu\")(block_6_output)\r\n",
        "x = Conv2D(64, 3, activation=\"relu\")(x)\r\n",
        "x = BatchNormalization()(x)\r\n",
        "\r\n",
        "x = GlobalAveragePooling2D()(x)\r\n",
        "x = Dense(256, activation=\"relu\")(x)\r\n",
        "x = Dropout(0.2)(x)\r\n",
        "\r\n",
        "x = Dense(512, activation=\"relu\")(x)\r\n",
        "x = Dropout(0.2)(x)\r\n",
        "\r\n",
        "x = Dense(256, activation=\"relu\")(x)\r\n",
        "x = Dropout(0.2)(x)\r\n",
        "outputs = Dense(10)(x)\r\n",
        "\r\n",
        "model = Model(inputs, outputs, name=\"ResNet\")\r\n",
        "model.summary()"
      ],
      "execution_count": null,
      "outputs": []
    },
    {
      "cell_type": "code",
      "metadata": {
        "id": "XQDcOgFLqxeK"
      },
      "source": [
        "model.compile(\r\n",
        "    optimizer= optimizers.Adam(1e-3),\r\n",
        "    loss=losses.CategoricalCrossentropy(from_logits=True),\r\n",
        "    metrics=[\"acc\"],\r\n",
        ")"
      ],
      "execution_count": null,
      "outputs": []
    },
    {
      "cell_type": "code",
      "metadata": {
        "id": "hW8Aq73drmxX"
      },
      "source": [
        "# Model training and creating validation set\r\n",
        "history = model.fit(x_train, y_train, batch_size=64, epochs=10, validation_split=0.2)"
      ],
      "execution_count": null,
      "outputs": []
    },
    {
      "cell_type": "code",
      "metadata": {
        "id": "uc4io7u4GROH"
      },
      "source": [
        "score = model.evaluate(x_test, y_test, batch_size = 128)\r\n",
        "print(\"\\nTest score:\", score[0])\r\n",
        "print('Test accuracy:', score[1])"
      ],
      "execution_count": null,
      "outputs": []
    },
    {
      "cell_type": "code",
      "metadata": {
        "id": "unTHFqp7r3Ye"
      },
      "source": [
        "# Ploting loss and accuracy values\r\n",
        "print(history.history.keys())\r\n",
        " \r\n",
        "plt.plot(history.history['val_acc'])\r\n",
        "plt.title('model accuracy')\r\n",
        "plt.ylabel('accuracy')\r\n",
        "plt.xlabel('epoch')\r\n",
        "plt.legend(['train', 'test'], loc='upper left')\r\n",
        "plt.show()\r\n",
        " \r\n",
        "plt.plot(history.history['loss'])\r\n",
        "plt.plot(history.history['val_loss'])\r\n",
        "plt.title('model loss')\r\n",
        "plt.ylabel('loss')\r\n",
        "plt.xlabel('epoch')\r\n",
        "plt.legend(['train', 'test'], loc='upper left')\r\n",
        "plt.show()"
      ],
      "execution_count": null,
      "outputs": []
    },
    {
      "cell_type": "code",
      "metadata": {
        "id": "DNmV-K1iGHqC"
      },
      "source": [
        ""
      ],
      "execution_count": null,
      "outputs": []
    }
  ]
}
