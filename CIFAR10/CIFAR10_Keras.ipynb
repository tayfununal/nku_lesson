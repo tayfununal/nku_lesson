{
  "nbformat": 4,
  "nbformat_minor": 0,
  "metadata": {
    "colab": {
      "name": "CIFAR10_Keras.ipynb",
      "private_outputs": true,
      "provenance": [],
      "authorship_tag": "ABX9TyOXvKVQ0Mqs9QcXuFLu/lQo",
      "include_colab_link": true
    },
    "kernelspec": {
      "name": "python3",
      "display_name": "Python 3"
    },
    "accelerator": "GPU"
  },
  "cells": [
    {
      "cell_type": "markdown",
      "metadata": {
        "id": "view-in-github",
        "colab_type": "text"
      },
      "source": [
        "<a href=\"https://colab.research.google.com/github/tayfununal/nku_lesson/blob/main/CIFAR10_Keras.ipynb\" target=\"_parent\"><img src=\"https://colab.research.google.com/assets/colab-badge.svg\" alt=\"Open In Colab\"/></a>"
      ]
    },
    {
      "cell_type": "code",
      "metadata": {
        "id": "hTLzkxEH68XM"
      },
      "source": [
        "from tensorflow.keras.models import Model\r\n",
        "from tensorflow.keras.layers import Dense, Input, Flatten, Conv2D, MaxPool2D, Dropout, BatchNormalization\r\n",
        "from tensorflow.keras.datasets import cifar10\r\n",
        "from tensorflow.keras import utils\r\n",
        "import matplotlib.pyplot as plt\r\n",
        "import tensorflow as tf"
      ],
      "execution_count": null,
      "outputs": []
    },
    {
      "cell_type": "code",
      "metadata": {
        "id": "2fsvUIxx7AGq"
      },
      "source": [
        "# Data\r\n",
        "(X_train, y_train), (X_test, y_test) = cifar10.load_data()"
      ],
      "execution_count": null,
      "outputs": []
    },
    {
      "cell_type": "code",
      "metadata": {
        "id": "rk0Vis70-kte"
      },
      "source": [
        "# Data Shapes\r\n",
        "print(\"Shape of X_train : \", X_train.shape)\r\n",
        "print(\"Shape of y_train: \", y_train.shape)\r\n",
        "print(\"Shape of X_test : \", X_test.shape)\r\n",
        "print(\"Shape of y_test : \", y_test.shape)"
      ],
      "execution_count": null,
      "outputs": []
    },
    {
      "cell_type": "code",
      "metadata": {
        "id": "AWKY5f77_12x"
      },
      "source": [
        "# Normalization\r\n",
        "X_train, X_test = X_train.astype('float32') / 255., X_test.astype('float32') / 255.\r\n",
        "\r\n",
        "# One - Hot Encoding\r\n",
        "y_train = utils.to_categorical(y_train, 10)\r\n",
        "y_test = utils.to_categorical(y_test, 10)"
      ],
      "execution_count": null,
      "outputs": []
    },
    {
      "cell_type": "code",
      "metadata": {
        "id": "pbO8TUroBFbf"
      },
      "source": [
        "input = Input(shape=(32,32,3))\r\n",
        "layer1 = Conv2D(128,(3,3), padding='same', activation='swish')(input)\r\n",
        "layer2 = MaxPool2D(pool_size=(3,3))(layer1)\r\n",
        "layer3 = Dropout(0.1)(layer2)\r\n",
        "\r\n",
        "layer4 = Conv2D(256,(3,3), padding='same', activation='swish')(layer3)\r\n",
        "layer5 = MaxPool2D(pool_size=(2,2))(layer4)\r\n",
        "layer20 = BatchNormalization()(layer5)\r\n",
        "\r\n",
        "layer6 = Conv2D(512,(3,3), padding='same', activation='swish')(layer20)\r\n",
        "layer7 = MaxPool2D(pool_size=(2,2))(layer6)\r\n",
        "layer8 = Dropout(0.1)(layer7)\r\n",
        "\r\n",
        "layer9 = Conv2D(1054,(3,3), padding='same', activation='swish')(layer8)\r\n",
        "layer10 = MaxPool2D(pool_size=(2,2))(layer9)\r\n",
        "layer21 = BatchNormalization()(layer10)\r\n",
        "\r\n",
        "layer11 = Flatten()(layer21)\r\n",
        "layer12 = Dense(64, activation='relu')(layer11)\r\n",
        "layer13 = Dense(64, activation='relu')(layer12)\r\n",
        "layer14 = Dense(64, activation='relu')(layer13)\r\n",
        "layer15 = Dense(64, activation='relu')(layer14)\r\n",
        "layer16 = Dense(10, activation='softmax')(layer15)\r\n",
        " \r\n",
        "model = Model(input, layer16)"
      ],
      "execution_count": null,
      "outputs": []
    },
    {
      "cell_type": "code",
      "metadata": {
        "id": "V39vrKdV9gLx"
      },
      "source": [
        "model.summary()"
      ],
      "execution_count": null,
      "outputs": []
    },
    {
      "cell_type": "code",
      "metadata": {
        "id": "zPx0jnuD97mb"
      },
      "source": [
        "model.compile(loss='categorical_crossentropy',\r\n",
        "              optimizer='rmsprop',\r\n",
        "              metrics=['accuracy'])"
      ],
      "execution_count": null,
      "outputs": []
    },
    {
      "cell_type": "code",
      "metadata": {
        "id": "ChF_mypEGx8G"
      },
      "source": [
        "# Model training and creating validation set\r\n",
        "history = model.fit(X_train, y_train,\r\n",
        "                    batch_size = 128,\r\n",
        "                    epochs=20,\r\n",
        "                    validation_data= (X_test, y_test),\r\n",
        "                    verbose=1)"
      ],
      "execution_count": null,
      "outputs": []
    },
    {
      "cell_type": "code",
      "metadata": {
        "id": "E0Qw6ZEBHU9L"
      },
      "source": [
        "score = model.evaluate(X_test, y_test,\r\n",
        "                       batch_size = 128,\r\n",
        "                       verbose = 1)\r\n",
        "print(\"\\nTest score:\", score[0])\r\n",
        "print('Test accuracy:', score[1])"
      ],
      "execution_count": null,
      "outputs": []
    },
    {
      "cell_type": "code",
      "metadata": {
        "id": "L21SqIJeIkwD"
      },
      "source": [
        "# Ploting loss and accuracy values\r\n",
        "print(history.history.keys())\r\n",
        " \r\n",
        "plt.plot(history.history['val_accuracy'])\r\n",
        "plt.title('model accuracy')\r\n",
        "plt.ylabel('accuracy')\r\n",
        "plt.xlabel('epoch')\r\n",
        "plt.legend(['train', 'test'], loc='upper left')\r\n",
        "plt.show()\r\n",
        " \r\n",
        "plt.plot(history.history['loss'])\r\n",
        "plt.plot(history.history['val_loss'])\r\n",
        "plt.title('model loss')\r\n",
        "plt.ylabel('loss')\r\n",
        "plt.xlabel('epoch')\r\n",
        "plt.legend(['train', 'test'], loc='upper left')\r\n",
        "plt.show()"
      ],
      "execution_count": null,
      "outputs": []
    }
  ]
}
