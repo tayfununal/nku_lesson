{
  "nbformat": 4,
  "nbformat_minor": 0,
  "metadata": {
    "colab": {
      "name": "CIFAR_10_Augmentation_TY_END.ipynb",
      "private_outputs": true,
      "provenance": [],
      "authorship_tag": "ABX9TyP3hD3Fb6BG87AC/+eO4+du",
      "include_colab_link": true
    },
    "kernelspec": {
      "name": "python3",
      "display_name": "Python 3"
    },
    "accelerator": "GPU"
  },
  "cells": [
    {
      "cell_type": "markdown",
      "metadata": {
        "id": "view-in-github",
        "colab_type": "text"
      },
      "source": [
        "<a href=\"https://colab.research.google.com/github/tayfununal/nku_lesson/blob/main/CIFAR_10_Augmentation_TY_END.ipynb\" target=\"_parent\"><img src=\"https://colab.research.google.com/assets/colab-badge.svg\" alt=\"Open In Colab\"/></a>"
      ]
    },
    {
      "cell_type": "code",
      "metadata": {
        "id": "rAnrTE8TG4eq"
      },
      "source": [
        "import tensorflow as tf\r\n",
        "import matplotlib.pyplot as plt\r\n",
        "import numpy as np\r\n",
        "from tensorflow.keras.preprocessing.image import ImageDataGenerator\r\n",
        "from tensorflow.keras import Sequential, Model\r\n",
        "from tensorflow.keras.layers import Dense, Input, Flatten, Conv2D, MaxPool2D, Dropout, BatchNormalization\r\n",
        "from tensorflow.keras import utils\r\n",
        "import os\r\n",
        "from tensorflow.keras.datasets import cifar10"
      ],
      "execution_count": null,
      "outputs": []
    },
    {
      "cell_type": "code",
      "metadata": {
        "id": "_wcvwJOLG_tm"
      },
      "source": [
        "(x_train, y_train), (x_test, y_test) = cifar10.load_data()\r\n",
        "y_train = utils.to_categorical(y_train, 10)\r\n",
        "y_test = utils.to_categorical(y_test, 10)"
      ],
      "execution_count": null,
      "outputs": []
    },
    {
      "cell_type": "code",
      "metadata": {
        "id": "Ls75ETZLHAIq"
      },
      "source": [
        "input = Input(shape=(32,32,3))\r\n",
        "\r\n",
        "layer1 = Conv2D(64,(3,3), padding='same')(input)\r\n",
        "layer2 = MaxPool2D(pool_size=(2,2))(layer1)\r\n",
        "layer3 = BatchNormalization()(layer2)\r\n",
        "layer4 = tf.keras.activations.swish(layer3)\r\n",
        "\r\n",
        "layer5 = Conv2D(256,(3,3), padding='same')(layer4)\r\n",
        "layer6 = MaxPool2D(pool_size=(2,2))(layer5)\r\n",
        "layer7 = BatchNormalization()(layer6)\r\n",
        "layer8 = tf.keras.activations.swish(layer7)\r\n",
        "\r\n",
        "layer9 = Conv2D(512,(3,3), padding='same')(layer8)\r\n",
        "layer10 = MaxPool2D(pool_size=(2,2))(layer9)\r\n",
        "layer11 = BatchNormalization()(layer10)\r\n",
        "layer12 = tf.keras.activations.swish(layer11)\r\n",
        "\r\n",
        "layer13 = Conv2D(64,(3,3), padding='same')(layer12)\r\n",
        "layer14 = MaxPool2D(pool_size=(2,2))(layer13)\r\n",
        "layer15 = BatchNormalization()(layer14)\r\n",
        "layer16 = tf.keras.activations.swish(layer15)\r\n",
        "\r\n",
        "layer17 = Flatten()(layer16)\r\n",
        "\r\n",
        "layer18 = Dense(256, activation='swish')(layer17)\r\n",
        "layer19 = Dense(512, activation='swish')(layer18)\r\n",
        "layer20 = Dense(256, activation='swish')(layer19)\r\n",
        "layer21 = Dense(10, activation='softmax')(layer20)\r\n",
        "\r\n",
        "model = Model(input, layer21)"
      ],
      "execution_count": null,
      "outputs": []
    },
    {
      "cell_type": "code",
      "metadata": {
        "id": "4tm5Ho34HUqp"
      },
      "source": [
        "model.summary()"
      ],
      "execution_count": null,
      "outputs": []
    },
    {
      "cell_type": "code",
      "metadata": {
        "id": "N7FmDxCzIje2"
      },
      "source": [
        "model.compile(optimizer='adam',\r\n",
        "              loss='categorical_crossentropy',\r\n",
        "              metrics=['accuracy'])"
      ],
      "execution_count": null,
      "outputs": []
    },
    {
      "cell_type": "code",
      "metadata": {
        "id": "CqLDzBmUIqNR"
      },
      "source": [
        "datagen = ImageDataGenerator(\r\n",
        "    featurewise_center=True,                #Boolean. Set input mean to 0 over the dataset, feature-wise.\r\n",
        "    featurewise_std_normalization=True,     #Boolean. Divide inputs by std of the dataset, feature-wise\r\n",
        "    rotation_range=20,                      #Int. Degree range for random rotations.\r\n",
        "    width_shift_range=0.2,                  #Float, 1-D array-like or int\r\n",
        "    height_shift_range=0.2,                 #Float, 1-D array-like or int\r\n",
        "    zoom_range = 0.2,                       #Float or [lower, upper]. Range for random zoom.\r\n",
        "    shear_range = 0.2,                      #\tFloat. Shear Intensity (Shear angle in counter-clockwise direction in degrees)\r\n",
        "    horizontal_flip=True)                   #\tBoolean. Randomly flip inputs horizontally.\r\n",
        "\r\n",
        "\r\n",
        "# compute quantities required for featurewise normalization\r\n",
        "# (std, mean, and principal components if ZCA whitening is applied)\r\n",
        "datagen.fit(x_train)\r\n",
        "# fits the model on batches with real-time data augmentation:\r\n",
        "model.fit(datagen.flow(x_train, y_train, batch_size=512),\r\n",
        "          steps_per_epoch=len(x_train) / 512, epochs=10 , validation_data=(x_test,y_test))"
      ],
      "execution_count": null,
      "outputs": []
    },
    {
      "cell_type": "code",
      "metadata": {
        "id": "NclaIB1ZI2Qy"
      },
      "source": [
        ""
      ],
      "execution_count": null,
      "outputs": []
    }
  ]
}