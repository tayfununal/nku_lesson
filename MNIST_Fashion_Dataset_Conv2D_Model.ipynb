{
  "nbformat": 4,
  "nbformat_minor": 0,
  "metadata": {
    "colab": {
      "name": "MNIST_Fashion_Dataset_Conv2D_Model.ipynb",
      "private_outputs": true,
      "provenance": [],
      "authorship_tag": "ABX9TyN5sG0sY66wdDTnujn1Q7ee",
      "include_colab_link": true
    },
    "kernelspec": {
      "name": "python3",
      "display_name": "Python 3"
    },
    "accelerator": "GPU"
  },
  "cells": [
    {
      "cell_type": "markdown",
      "metadata": {
        "id": "view-in-github",
        "colab_type": "text"
      },
      "source": [
        "<a href=\"https://colab.research.google.com/github/tayfununal/nku_lesson/blob/main/MNIST_Fashion_Dataset_Conv2D_Model.ipynb\" target=\"_parent\"><img src=\"https://colab.research.google.com/assets/colab-badge.svg\" alt=\"Open In Colab\"/></a>"
      ]
    },
    {
      "cell_type": "code",
      "metadata": {
        "id": "1DMHpOgh6cLg"
      },
      "source": [
        "import tensorflow as tf\r\n",
        "from tensorflow.keras.models import Sequential\r\n",
        "from tensorflow.keras.layers import Dense, Flatten, Conv2D, MaxPooling2D, Input, Softmax"
      ],
      "execution_count": null,
      "outputs": []
    },
    {
      "cell_type": "code",
      "metadata": {
        "id": "wND4fcWE6eF7"
      },
      "source": [
        "# Build the Sequential convolutional neural network model\r\n",
        "model = Sequential([\r\n",
        "    Input(shape=(28,28,1)),\r\n",
        "    Conv2D(64, kernel_size=(3,3), activation ='relu'),\r\n",
        "    Conv2D(32, kernel_size=(3,3), activation ='relu'),\r\n",
        "    MaxPooling2D(pool_size=(2,2)),\r\n",
        "    Flatten(),\r\n",
        "    Dense(64, activation='relu'),\r\n",
        "    Dense(10, activation='softmax')\r\n",
        "])"
      ],
      "execution_count": null,
      "outputs": []
    },
    {
      "cell_type": "code",
      "metadata": {
        "id": "ERcYyy8R6fcG"
      },
      "source": [
        "# Print the model summary\r\n",
        "model.summary()"
      ],
      "execution_count": null,
      "outputs": []
    },
    {
      "cell_type": "code",
      "metadata": {
        "id": "Losbny_36gv0"
      },
      "source": [
        "# Define the model optimizer, loss function and metrics\r\n",
        "\r\n",
        "model.compile(optimizer='Adam', loss='sparse_categorical_crossentropy', metrics=['accuracy'])"
      ],
      "execution_count": null,
      "outputs": []
    },
    {
      "cell_type": "code",
      "metadata": {
        "id": "yG6FVrLr6jNr"
      },
      "source": [
        "# Print the resulting model attributes\r\n",
        "\r\n",
        "model.weights"
      ],
      "execution_count": null,
      "outputs": []
    },
    {
      "cell_type": "code",
      "metadata": {
        "id": "qHyieYXu6nvo"
      },
      "source": [
        "from tensorflow.keras.preprocessing import image\r\n",
        "import matplotlib.pyplot as plt\r\n",
        "import numpy as np\r\n",
        "import pandas as pd"
      ],
      "execution_count": null,
      "outputs": []
    },
    {
      "cell_type": "code",
      "metadata": {
        "id": "EGSTOxQH6qAB"
      },
      "source": [
        "# Load the Fashion-MNIST dataset\r\n",
        "\r\n",
        "fashion_mnist_data = tf.keras.datasets.fashion_mnist\r\n",
        "(train_images, train_labels), (test_images, test_labels) = fashion_mnist_data.load_data()"
      ],
      "execution_count": null,
      "outputs": []
    },
    {
      "cell_type": "code",
      "metadata": {
        "id": "RgsR8etj6sn0"
      },
      "source": [
        "# Print the shape of the training data\r\n",
        "\r\n",
        "print('Train shape : ',train_images.shape)\r\n",
        "print('Train label shape : ',train_labels.shape)\r\n",
        "\r\n",
        "print('Test shape : ',test_images.shape)\r\n",
        "print('Test label shape : ',test_labels.shape)"
      ],
      "execution_count": null,
      "outputs": []
    },
    {
      "cell_type": "code",
      "metadata": {
        "id": "ehrvqA8L6uzU"
      },
      "source": [
        "# Define the labels\r\n",
        "\r\n",
        "labels = [\r\n",
        "    'T-shirt/top',\r\n",
        "    'Trouser',\r\n",
        "    'Pullover',\r\n",
        "    'Dress',\r\n",
        "    'Coat',\r\n",
        "    'Sandal',\r\n",
        "    'Shirt',\r\n",
        "    'Sneaker',\r\n",
        "    'Bag',\r\n",
        "    'Ankle boot'\r\n",
        "]"
      ],
      "execution_count": null,
      "outputs": []
    },
    {
      "cell_type": "code",
      "metadata": {
        "id": "YlpQr68962NO"
      },
      "source": [
        "# Rescale the image values so that they lie in between 0 and 1.\r\n",
        "\r\n",
        "train_images = train_images.astype(np.float32)/ 255.0\r\n",
        "test_images = test_images.astype(np.float32)/ 255.0\r\n"
      ],
      "execution_count": null,
      "outputs": []
    },
    {
      "cell_type": "code",
      "metadata": {
        "id": "1kaSLl2D63-9"
      },
      "source": [
        "\r\n",
        "# Display one of the images\r\n",
        "img = 9999\r\n",
        "plt.imshow(train_images[img])\r\n",
        "print('Label : ', labels[train_labels[img]])"
      ],
      "execution_count": null,
      "outputs": []
    },
    {
      "cell_type": "code",
      "metadata": {
        "id": "DLlYqxAq65Ru"
      },
      "source": [
        "# Fit the model\r\n",
        "model.fit(train_images[..., np.newaxis], train_labels, epochs=10, batch_size=256)\r\n"
      ],
      "execution_count": null,
      "outputs": []
    },
    {
      "cell_type": "code",
      "metadata": {
        "id": "Ff4xmtor665T"
      },
      "source": [
        ""
      ],
      "execution_count": null,
      "outputs": []
    }
  ]
}