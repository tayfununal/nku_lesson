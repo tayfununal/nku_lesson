{
  "nbformat": 4,
  "nbformat_minor": 0,
  "metadata": {
    "colab": {
      "name": "homework1.ipynb",
      "private_outputs": true,
      "provenance": [],
      "authorship_tag": "ABX9TyM55TLr0AA1az44L0KzxeMt",
      "include_colab_link": true
    },
    "kernelspec": {
      "name": "python3",
      "display_name": "Python 3"
    }
  },
  "cells": [
    {
      "cell_type": "markdown",
      "metadata": {
        "id": "view-in-github",
        "colab_type": "text"
      },
      "source": [
        "<a href=\"https://colab.research.google.com/github/tayfununal/nku_lesson/blob/main/homework1.ipynb\" target=\"_parent\"><img src=\"https://colab.research.google.com/assets/colab-badge.svg\" alt=\"Open In Colab\"/></a>"
      ]
    },
    {
      "cell_type": "markdown",
      "metadata": {
        "id": "DyJBA7MBVt_h"
      },
      "source": [
        "### **Box and Muller Method**\r\n",
        "This method is to used that convert from uniform distribution to normal distribution."
      ]
    },
    {
      "cell_type": "code",
      "metadata": {
        "id": "Qi0RphB0TmF5"
      },
      "source": [
        "import numpy as np"
      ],
      "execution_count": null,
      "outputs": []
    },
    {
      "cell_type": "code",
      "metadata": {
        "id": "JXcTIUsWTo77"
      },
      "source": [
        "uniform = np.random.uniform(0,1,size=1000)\r\n",
        "uniform2 = np.random.uniform(0,1,size=1000)"
      ],
      "execution_count": null,
      "outputs": []
    },
    {
      "cell_type": "code",
      "metadata": {
        "id": "HFvDGe5sUElM"
      },
      "source": [
        "uniform.shape"
      ],
      "execution_count": null,
      "outputs": []
    },
    {
      "cell_type": "code",
      "metadata": {
        "id": "61TNKbjVTxDp"
      },
      "source": [
        "import matplotlib.pyplot as plt"
      ],
      "execution_count": null,
      "outputs": []
    },
    {
      "cell_type": "code",
      "metadata": {
        "id": "1rP9yJhPT2EK"
      },
      "source": [
        "plt.hist(uniform)"
      ],
      "execution_count": null,
      "outputs": []
    },
    {
      "cell_type": "code",
      "metadata": {
        "id": "JB_aInACT8gC"
      },
      "source": [
        "normal_dist = np.sqrt(-2 * np.log(uniform)) * np.cos(2* np.pi * uniform2)"
      ],
      "execution_count": null,
      "outputs": []
    },
    {
      "cell_type": "code",
      "metadata": {
        "id": "imghwsqYVmZx"
      },
      "source": [
        "plt.hist(normal_dist)"
      ],
      "execution_count": null,
      "outputs": []
    },
    {
      "cell_type": "code",
      "metadata": {
        "id": "jxU3dLKWVpbo"
      },
      "source": [
        ""
      ],
      "execution_count": null,
      "outputs": []
    }
  ]
}