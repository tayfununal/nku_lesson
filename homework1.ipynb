{
  "nbformat": 4,
  "nbformat_minor": 0,
  "metadata": {
    "colab": {
      "name": "homework1.ipynb",
      "private_outputs": true,
      "provenance": [],
      "authorship_tag": "ABX9TyN27q7LIg/ZnpVSDXZMHbq9",
      "include_colab_link": true
    },
    "kernelspec": {
      "name": "python3",
      "display_name": "Python 3"
    }
  },
  "cells": [
    {
      "cell_type": "markdown",
      "metadata": {
        "id": "view-in-github",
        "colab_type": "text"
      },
      "source": [
        "<a href=\"https://colab.research.google.com/github/tayfununal/nku_lesson/blob/main/homework1.ipynb\" target=\"_parent\"><img src=\"https://colab.research.google.com/assets/colab-badge.svg\" alt=\"Open In Colab\"/></a>"
      ]
    },
    {
      "cell_type": "markdown",
      "metadata": {
        "id": "DyJBA7MBVt_h"
      },
      "source": [
        "### **Box and Muller Method**\r\n",
        "This method is to used that convert from uniform distribution to normal distribution."
      ]
    },
    {
      "cell_type": "code",
      "metadata": {
        "id": "Qi0RphB0TmF5"
      },
      "source": [
        "import numpy as np\r\n",
        "import matplotlib.pyplot as plt"
      ],
      "execution_count": null,
      "outputs": []
    },
    {
      "cell_type": "code",
      "metadata": {
        "id": "JXcTIUsWTo77"
      },
      "source": [
        "u_1 = np.random.uniform(0,1,size=10000)\r\n",
        "u_2 = np.random.uniform(0,1,size=10000)"
      ],
      "execution_count": null,
      "outputs": []
    },
    {
      "cell_type": "code",
      "metadata": {
        "id": "1rP9yJhPT2EK"
      },
      "source": [
        "fig , (ax1, ax2) = plt.subplots(1,2)\r\n",
        "ax1.hist(u_1)\r\n",
        "ax2.hist(u_2)\r\n",
        "plt.show()"
      ],
      "execution_count": null,
      "outputs": []
    },
    {
      "cell_type": "markdown",
      "metadata": {
        "id": "QAJnTeMjbjmK"
      },
      "source": [
        "$n1 = \\sqrt{-2ln(u_1)}cos(2\\pi u_2)$\r\n",
        "\r\n",
        "$n2 = \\sqrt{-2ln(u_1)}sin(2\\pi u_2)$"
      ]
    },
    {
      "cell_type": "code",
      "metadata": {
        "id": "JB_aInACT8gC"
      },
      "source": [
        "n_1 = np.sqrt(-2 * np.log(u_1)) * np.cos(2* np.pi * u_2)\r\n",
        "n_2 = np.sqrt(-2 * np.log(u_1)) * np.sin(2* np.pi * u_2)"
      ],
      "execution_count": null,
      "outputs": []
    },
    {
      "cell_type": "code",
      "metadata": {
        "id": "imghwsqYVmZx"
      },
      "source": [
        "fig, (ax1,ax2) = plt.subplots(1,2)\r\n",
        "ax1.hist(n_1)\r\n",
        "ax2.hist(n_2)\r\n",
        "plt.show()"
      ],
      "execution_count": null,
      "outputs": []
    },
    {
      "cell_type": "code",
      "metadata": {
        "id": "Kga6vJehbdHu"
      },
      "source": [
        ""
      ],
      "execution_count": null,
      "outputs": []
    }
  ]
}